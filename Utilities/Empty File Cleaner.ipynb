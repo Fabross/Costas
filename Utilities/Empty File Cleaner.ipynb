{
 "cells": [
  {
   "cell_type": "markdown",
   "metadata": {},
   "source": [
    "# Utilities\n",
    "\n",
    "### Run this notebook to clean all empty files in ASAS Original Data Directory, at the moment of writing this, around 20 files are empty."
   ]
  },
  {
   "cell_type": "code",
   "execution_count": 1,
   "metadata": {},
   "outputs": [],
   "source": [
    "import sys\n",
    "import os"
   ]
  },
  {
   "cell_type": "code",
   "execution_count": 4,
   "metadata": {},
   "outputs": [
    {
     "name": "stdout",
     "output_type": "stream",
     "text": [
      "../ASAS Original Data/01/014543-4526.0\n",
      "../ASAS Original Data/04/044315-4106.3\n",
      "../ASAS Original Data/05/052228-4650.2\n",
      "../ASAS Original Data/05/054739+1437.6\n",
      "../ASAS Original Data/06/065053-0004.4\n",
      "../ASAS Original Data/07/075053-1524.5\n",
      "../ASAS Original Data/07/075907-4400.7\n",
      "../ASAS Original Data/07/073205-2638.4\n",
      "../ASAS Original Data/08/083006+1339.7\n",
      "../ASAS Original Data/08/085350-2505.1\n",
      "../ASAS Original Data/08/082144-0145.9\n",
      "../ASAS Original Data/09/091029-5254.8\n",
      "../ASAS Original Data/10/103254-5831.2\n",
      "../ASAS Original Data/11/113215-6054.3\n",
      "../ASAS Original Data/11/111121-4748.8\n",
      "../ASAS Original Data/12/122521-3843.2\n",
      "../ASAS Original Data/12/125341-6113.0\n",
      "../ASAS Original Data/13/132216-7113.7\n",
      "../ASAS Original Data/14/141139-4807.7\n",
      "../ASAS Original Data/15/150133-3057.1\n",
      "../ASAS Original Data/16/165752-0932.5\n",
      "../ASAS Original Data/16/160507-5845.6\n",
      "../ASAS Original Data/16/164006-6255.9\n",
      "../ASAS Original Data/17/173715-4437.0\n",
      "../ASAS Original Data/17/175524-1335.6\n",
      "../ASAS Original Data/17/171215-2617.5\n",
      "../ASAS Original Data/17/172425-3944.9\n",
      "../ASAS Original Data/18/183540-6656.0\n",
      "../ASAS Original Data/18/181024-2049.6\n",
      "../ASAS Original Data/18/180305-2929.0\n",
      "../ASAS Original Data/18/185332-2932.8\n",
      "../ASAS Original Data/19/190043-1404.3\n",
      "../ASAS Original Data/19/194101+2620.9\n",
      "../ASAS Original Data/19/195404-1841.0\n",
      "../ASAS Original Data/20/200815+2235.5\n",
      "../ASAS Original Data/21/210223+1336.1\n",
      "../ASAS Original Data/22/220503+1738.7\n"
     ]
    },
    {
     "ename": "TypeError",
     "evalue": "can only concatenate str (not \"int\") to str",
     "output_type": "error",
     "traceback": [
      "\u001b[0;31m---------------------------------------------------------------------------\u001b[0m",
      "\u001b[0;31mTypeError\u001b[0m                                 Traceback (most recent call last)",
      "\u001b[0;32m<ipython-input-4-1dcab5f54672>\u001b[0m in \u001b[0;36m<module>\u001b[0;34m\u001b[0m\n\u001b[1;32m     14\u001b[0m             \u001b[0mprint\u001b[0m\u001b[0;34m(\u001b[0m\u001b[0;34m\"Unknown error deleting:\"\u001b[0m \u001b[0;34m+\u001b[0m \u001b[0mfullname\u001b[0m\u001b[0;34m)\u001b[0m\u001b[0;34m\u001b[0m\u001b[0;34m\u001b[0m\u001b[0m\n\u001b[1;32m     15\u001b[0m \u001b[0;34m\u001b[0m\u001b[0m\n\u001b[0;32m---> 16\u001b[0;31m \u001b[0mprint\u001b[0m\u001b[0;34m(\u001b[0m\u001b[0;34m\"Total files deleted:\"\u001b[0m \u001b[0;34m+\u001b[0m \u001b[0mdeleted_files\u001b[0m\u001b[0;34m)\u001b[0m\u001b[0;34m\u001b[0m\u001b[0;34m\u001b[0m\u001b[0m\n\u001b[0m",
      "\u001b[0;31mTypeError\u001b[0m: can only concatenate str (not \"int\") to str"
     ]
    }
   ],
   "source": [
    "for i in range(0, 24):\n",
    "    folder = \"0\" + str(i) if i < 10 else str(i)\n",
    "    analyze_data = '../ASAS Original Data/' + folder\n",
    "    \n",
    "    for file in os.listdir(analyze_data):\n",
    "        fullname = analyze_data + '/' + file\n",
    "        try:\n",
    "            if os.path.getsize(fullname) == 0:\n",
    "                print(fullname)\n",
    "                os.remove(fullname)\n",
    "        except:\n",
    "            print(\"Unknown error deleting:\" + fullname)"
   ]
  }
 ],
 "metadata": {
  "kernelspec": {
   "display_name": "Python 3",
   "language": "python",
   "name": "python3"
  },
  "language_info": {
   "codemirror_mode": {
    "name": "ipython",
    "version": 3
   },
   "file_extension": ".py",
   "mimetype": "text/x-python",
   "name": "python",
   "nbconvert_exporter": "python",
   "pygments_lexer": "ipython3",
   "version": "3.7.3"
  }
 },
 "nbformat": 4,
 "nbformat_minor": 2
}
