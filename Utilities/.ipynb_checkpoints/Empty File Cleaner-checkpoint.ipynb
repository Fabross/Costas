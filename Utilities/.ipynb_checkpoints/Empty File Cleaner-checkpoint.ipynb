{
 "cells": [
  {
   "cell_type": "markdown",
   "metadata": {},
   "source": [
    "# Utilities\n",
    "\n",
    "### Run this notebook to clean all empty files in ASAS Original Data Directory, at the moment of writing this, around 20 files are empty."
   ]
  },
  {
   "cell_type": "code",
   "execution_count": 1,
   "metadata": {},
   "outputs": [],
   "source": [
    "import sys\n",
    "import os"
   ]
  },
  {
   "cell_type": "code",
   "execution_count": 3,
   "metadata": {},
   "outputs": [
    {
     "ename": "SyntaxError",
     "evalue": "invalid syntax (<ipython-input-3-aefdab257da7>, line 13)",
     "output_type": "error",
     "traceback": [
      "\u001b[0;36m  File \u001b[0;32m\"<ipython-input-3-aefdab257da7>\"\u001b[0;36m, line \u001b[0;32m13\u001b[0m\n\u001b[0;31m    except:\u001b[0m\n\u001b[0m         ^\u001b[0m\n\u001b[0;31mSyntaxError\u001b[0m\u001b[0;31m:\u001b[0m invalid syntax\n"
     ]
    }
   ],
   "source": [
    "deleted_files = 0\n",
    "for i in range(0, 24):\n",
    "    folder = \"0\" + str(i) if i < 10 else str(i)\n",
    "    analyze_data = '../ASAS Original Data/' + folder\n",
    "    \n",
    "    for file in os.listdir(analyze_data):\n",
    "        fullname = analyze_data + '/' + file\n",
    "        try:\n",
    "            if os.path.getsize(fullname) == 0:\n",
    "                print(fullname)\n",
    "                os.remove(fullname)\n",
    "                deleted_files += 1\n",
    "        except:\n",
    "            print(\"Unknown error deleting:\" + fullname)\n",
    "                \n",
    "print(\"Total files deleted:\" + deleted_files)"
   ]
  }
 ],
 "metadata": {
  "kernelspec": {
   "display_name": "Python 3",
   "language": "python",
   "name": "python3"
  },
  "language_info": {
   "codemirror_mode": {
    "name": "ipython",
    "version": 3
   },
   "file_extension": ".py",
   "mimetype": "text/x-python",
   "name": "python",
   "nbconvert_exporter": "python",
   "pygments_lexer": "ipython3",
   "version": "3.7.3"
  }
 },
 "nbformat": 4,
 "nbformat_minor": 2
}
