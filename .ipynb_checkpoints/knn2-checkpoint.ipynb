{
 "cells": [
  {
   "cell_type": "markdown",
   "metadata": {},
   "source": [
    "# knn 2.0\n",
    "Se prueba un nuevo método\n",
    "## Se cargan los datos\n",
    "Cargar solo los RA y DEC de las coordenadas"
   ]
  },
  {
   "cell_type": "code",
   "execution_count": 1,
   "metadata": {
    "scrolled": true
   },
   "outputs": [],
   "source": [
    "import pickle\n",
    "import numpy as np\n",
    "from astropy.table import Table, vstack\n",
    "import matplotlib.pyplot as plt\n",
    "flag = 0\n",
    "for i in range(0,24):\n",
    "    num = \"0\"+str(i) if i<10 else str(i)\n",
    "    temp = pickle.load( open( \"RA_DEC/\"+num+\".p\", \"rb\" ) )\n",
    "    if flag==0:\n",
    "        t = temp\n",
    "        flag=1\n",
    "    else:\n",
    "        t = vstack([t, temp])\n",
    "t['RA'] = t['RA']*15\n",
    "t = t.to_pandas()"
   ]
  },
  {
   "cell_type": "markdown",
   "metadata": {},
   "source": [
    "Cargar datos con parámetros Q1 y Q2 prim, y C1 y C2"
   ]
  },
  {
   "cell_type": "code",
   "execution_count": 2,
   "metadata": {},
   "outputs": [],
   "source": [
    "flag = 0\n",
    "for i in range(0,24):\n",
    "    num = \"0\"+str(i) if i<10 else str(i)\n",
    "    temp = pickle.load(open( \"data_tables/\"+num+\".p\", \"rb\" ))\n",
    "    if flag==0:\n",
    "        t = temp\n",
    "        flag=1\n",
    "    else:\n",
    "        t = vstack([t, temp])\n",
    "t['RA'] = t['RA']*15\n",
    "t = t.to_pandas()"
   ]
  },
  {
   "cell_type": "markdown",
   "metadata": {},
   "source": [
    "Función para calcular las distancias"
   ]
  },
  {
   "cell_type": "code",
   "execution_count": 3,
   "metadata": {},
   "outputs": [],
   "source": [
    "def compute_squared_EDM_method5(X):\n",
    "    V = spt.distance.pdist(X, 'sqeuclidean')\n",
    "    return spt.distance.squareform(V)"
   ]
  },
  {
   "cell_type": "markdown",
   "metadata": {},
   "source": [
    "Función para arreglar límites de 0 y 20 horas."
   ]
  },
  {
   "cell_type": "code",
   "execution_count": 4,
   "metadata": {},
   "outputs": [],
   "source": [
    "def fix_xlimits_method(df, r):\n",
    "    x_0inf = min(df['RA'])\n",
    "    x_nsup = max(df['RA'])\n",
    "    cond_a =(df['RA']>= x_0inf)&(df['RA']<x_0inf+r)\n",
    "    cond_b =(df['RA']> x_nsup-r)&(df['RA']<=x_nsup)\n",
    "    mask = np.where(cond_a)\n",
    "    temp = df.loc[mask[0]]\n",
    "    mask = np.where(cond_b)\n",
    "    temp['RA'] = temp['RA']+360\n",
    "    df = df.append(temp, ignore_index=True)\n",
    "    temp = df.loc[mask[0]]\n",
    "    temp['RA'] = temp['RA']-360\n",
    "    df = df.append(temp, ignore_index=True)\n",
    "    return df"
   ]
  },
  {
   "cell_type": "markdown",
   "metadata": {},
   "source": [
    "## Algoritmo\n",
    "Se tienen los siguientes pasos:\n",
    "### Inicialización de variables globales\n",
    "Se utilizan a lo largo de toda la ejecución y no cambian."
   ]
  },
  {
   "cell_type": "code",
   "execution_count": 5,
   "metadata": {},
   "outputs": [],
   "source": [
    "size = 3\n",
    "max_size = 6\n",
    "k = 10\n",
    "data = fix_xlimits_method(t, max_size)\n",
    "d = 1.5"
   ]
  },
  {
   "cell_type": "markdown",
   "metadata": {},
   "source": [
    "### 1.- Crear ventana alrededor del punto de interés\n",
    "Si no existe una cantidad de k vecinos cercanos aumentar hasta que se cumpla con la cantidad mínima, o simplemente se llegue al máximo de ventana. Define el espacio de trabajo para calcular las distancias."
   ]
  },
  {
   "cell_type": "code",
   "execution_count": 6,
   "metadata": {},
   "outputs": [],
   "source": [
    "def new_window(point):\n",
    "    size_temp = size\n",
    "    cond_x = (data['RA']>= point[0]-size_temp)&(data['RA']<point[0]+size_temp)\n",
    "    cond_y = (data['DEC']>= point[1]-size_temp)&(data['DEC']< point[1]+size_temp)\n",
    "    mask = np.where(cond_x&cond_y)\n",
    "    data_aux = data[['RA','DEC']].loc[mask]\n",
    "    while((len(data_aux)-1 < k) and (size<max_size)):\n",
    "        size_temp = 2*size_temp\n",
    "        cond_x = (data['RA']>= point[0]-size_temp)&(data['RA']<point[0]+size_temp)\n",
    "        cond_y = (data['DEC']>= point[1]-size_temp)&(data['DEC']< point[1]+size_temp)\n",
    "        mask = np.where(cond_x&cond_y)\n",
    "        data_aux = data[['RA','DEC']].loc[mask]\n",
    "    return data_aux"
   ]
  },
  {
   "cell_type": "markdown",
   "metadata": {},
   "source": [
    "## 2.- Calcular distancias solo para el punto de interés\n",
    "Se procede a obtener las distancias del punto hacia el resto"
   ]
  },
  {
   "cell_type": "code",
   "execution_count": 7,
   "metadata": {},
   "outputs": [],
   "source": [
    "from scipy.spatial import distance\n",
    "\n",
    "def distancias(point, window):\n",
    "    if len(np.shape(point)) == 1:\n",
    "        point = np.expand_dims(point,axis=1)\n",
    "    D = distance.cdist(point.T, window, 'euclidean')\n",
    "    window['distance'] = D.T\n",
    "    return window"
   ]
  },
  {
   "cell_type": "markdown",
   "metadata": {},
   "source": [
    "### 3.- Filtrar por distancia los vecinos o por k\n",
    "Función que descarta los datos de los vecinos superiores a un k fijado"
   ]
  },
  {
   "cell_type": "code",
   "execution_count": 8,
   "metadata": {},
   "outputs": [],
   "source": [
    "def k_near_filter(point, neighbors):\n",
    "    neighbors = neighbors.sort_values(by=['distance'])\n",
    "    n = len(neighbors)-1\n",
    "    if (n>=k):\n",
    "        neighbors = neighbors.iloc[1:k+1,:]\n",
    "    else:\n",
    "        neighbors = neighbors.iloc[1:k+1,:]\n",
    "    return neighbors"
   ]
  },
  {
   "cell_type": "markdown",
   "metadata": {},
   "source": [
    "Función que descarta los datos de los vecinos superiores a un radio \"d\""
   ]
  },
  {
   "cell_type": "code",
   "execution_count": 9,
   "metadata": {},
   "outputs": [],
   "source": [
    "def d_near_filter(point, neighbors, d):\n",
    "    neighbors = neighbors.sort_values(by=['distance'])\n",
    "    mask = np.where(neighbors['distance'] <= d)\n",
    "    return neighbors.loc[mask]"
   ]
  },
  {
   "cell_type": "markdown",
   "metadata": {},
   "source": [
    "### 4.- Calcular los $\\bar{Q}$"
   ]
  },
  {
   "cell_type": "code",
   "execution_count": 24,
   "metadata": {
    "scrolled": true
   },
   "outputs": [],
   "source": [
    "def Q_calculator(point, neighbors):\n",
    "    cond_x = (data['RA']>= neighbors['RA'].min())&(data['RA']<=neighbors['RA'].max())\n",
    "    cond_y = (data['DEC']>= neighbors['DEC'].min())&(data['DEC']<= neighbors['DEC'].max())\n",
    "    mask = np.where(cond_x&cond_y)\n",
    "    data_aux = data.loc[mask]\n",
    "    n = len(data_aux)\n",
    "    Q1 = point[2]*n/(n-1) - data_aux['Q1prim'].mean()*n/(n-1)\n",
    "    Q2 = point[4]*n/(n-1) - data_aux['Q2prim'].mean()*n/(n-1)\n",
    "    point = np.append(point,Q1)\n",
    "    point = np.append(point,Q2)\n",
    "    \n",
    "    return point"
   ]
  },
  {
   "cell_type": "markdown",
   "metadata": {},
   "source": [
    "### 5.- Función que junta del paso 1 al 4"
   ]
  },
  {
   "cell_type": "code",
   "execution_count": 28,
   "metadata": {},
   "outputs": [],
   "source": [
    "from multiprocessing import Pool, TimeoutError\n",
    "import time\n",
    "\n",
    "def Q_features_knn(point):\n",
    "    checkpoint = \"iniciado Q_features_knn\"\n",
    "    try:\n",
    "        neighbors = new_window(point)\n",
    "        checkpoint = \"new_window\"\n",
    "        neighbors_distances = distancias(point[0:2], neighbors)\n",
    "        checkpoint = \"distancias\"\n",
    "        neighbors_near_filtered = k_near_filter(point, neighbors_distances)\n",
    "        checkpoint = \"k_near_filter\"\n",
    "        point = Q_calculator(point, neighbors_near_filtered)\n",
    "        checkpoint = \"Q_calculator\"\n",
    "        return point\n",
    "    except:\n",
    "        print(\"Falla al intentar analizar punto \"+str(point)+\", luego de \"+checkpoint)\n"
   ]
  },
  {
   "cell_type": "markdown",
   "metadata": {},
   "source": [
    "## Ejecución utilizando paralelismo"
   ]
  },
  {
   "cell_type": "code",
   "execution_count": 29,
   "metadata": {},
   "outputs": [],
   "source": [
    "def thread_analyze():\n",
    "    print(\"Ejecutando en paralelo...\")\n",
    "    iterables = data.iloc[:,:].values\n",
    "    start = time.process_time()\n",
    "    pool = Pool(processes=6)\n",
    "    result = pool.map(Q_features_knn, iterables)\n",
    "    end = time.process_time()\n",
    "    wait = end - start\n",
    "    print('Ejecución en paralelo demoró: '+str(wait))\n",
    "    #pickle.dump(result, open( \"knn_data/parallel_r_\"+str(r)+\"_data.p\", \"wb\" ))\n",
    "    pool.terminate()\n",
    "    return result"
   ]
  },
  {
   "cell_type": "code",
   "execution_count": 31,
   "metadata": {},
   "outputs": [
    {
     "name": "stdout",
     "output_type": "stream",
     "text": [
      "Ejecutando en paralelo...\n",
      "Ejecución en paralelo demoró: 1.041662672000001\n"
     ]
    }
   ],
   "source": [
    "resultado = thread_analyze()"
   ]
  },
  {
   "cell_type": "raw",
   "metadata": {},
   "source": []
  }
 ],
 "metadata": {
  "kernelspec": {
   "display_name": "Python 3",
   "language": "python",
   "name": "python3"
  },
  "language_info": {
   "codemirror_mode": {
    "name": "ipython",
    "version": 3
   },
   "file_extension": ".py",
   "mimetype": "text/x-python",
   "name": "python",
   "nbconvert_exporter": "python",
   "pygments_lexer": "ipython3",
   "version": "3.6.5"
  }
 },
 "nbformat": 4,
 "nbformat_minor": 2
}
