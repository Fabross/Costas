{
 "cells": [
  {
   "cell_type": "markdown",
   "metadata": {},
   "source": [
    "### Data Preprocessing"
   ]
  },
  {
   "cell_type": "code",
   "execution_count": 3,
   "metadata": {},
   "outputs": [],
   "source": [
    "import os\n",
    "import pandas as pd\n",
    "from astropy.table import Table, vstack\n",
    "from costas.acquisition import parser\n",
    "from costas.filter import grade_filter\n",
    "from costas.preprocessing import preprocessing\n",
    "from costas.fextraction import get_ra_dec, get_statistics"
   ]
  },
  {
   "cell_type": "markdown",
   "metadata": {},
   "source": [
    "### Compress"
   ]
  },
  {
   "cell_type": "code",
   "execution_count": 4,
   "metadata": {},
   "outputs": [],
   "source": [
    "import pickle"
   ]
  },
  {
   "cell_type": "markdown",
   "metadata": {},
   "source": [
    "# <span style=\"color:red\">Bug:</span> Parser fails under certain files\n",
    "### Check logs for more information"
   ]
  },
  {
   "cell_type": "code",
   "execution_count": null,
   "metadata": {},
   "outputs": [
    {
     "name": "stdout",
     "output_type": "stream",
     "text": [
      "Processing: 00\n"
     ]
    }
   ],
   "source": [
    "for i in range(0, 24):\n",
    "    folder = \"0\" + str(i) if i < 10 else str(i)\n",
    "    analyze_data = 'ASAS Original Data/' + folder\n",
    "    print(\"Processing: \" + folder)\n",
    "    \n",
    "    data_table = Table(names=('RA', 'DEC', 'Q1\\'', 'C1', 'Q2\\'', 'C2'), dtype=('S10', 'S10', 'f8', 'f8', 'f8', 'f8'))\n",
    "    \n",
    "    for filename in os.listdir(analyze_data):\n",
    "        try:\n",
    "            data = parser('ASAS Original Data/' + folder + '/' + filename)\n",
    "            data = grade_filter(data, [\"A\", \"B\"])\n",
    "            data = preprocessing(data, \"2\")\n",
    "            RA_DEC = get_ra_dec(data)\n",
    "            statistics = get_statistics(data[\"HJD\"], data[\"MAG_2\"])\n",
    "\n",
    "            # We add the row to the final table\n",
    "            data_table.add_row([RA_DEC[0], RA_DEC[1], statistics[0], statistics[1], statistics[2], statistics[3]])\n",
    "        \n",
    "        except:\n",
    "            pass\n",
    "            # Parser function already has log functionality implemented so we just pass\n",
    "            \n",
    "    filename = 'ASAS Data Tables/' + folder\n",
    "    \n",
    "    # Compress with pickle\n",
    "    outfile = open(filename, 'wb')\n",
    "    pickle.dump(data_table, outfile)\n",
    "    outfile.close()"
   ]
  }
 ],
 "metadata": {
  "kernelspec": {
   "display_name": "Python 3",
   "language": "python",
   "name": "python3"
  },
  "language_info": {
   "codemirror_mode": {
    "name": "ipython",
    "version": 3
   },
   "file_extension": ".py",
   "mimetype": "text/x-python",
   "name": "python",
   "nbconvert_exporter": "python",
   "pygments_lexer": "ipython3",
   "version": "3.7.3"
  }
 },
 "nbformat": 4,
 "nbformat_minor": 2
}
